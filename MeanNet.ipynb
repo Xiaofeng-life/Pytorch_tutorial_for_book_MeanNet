{
 "cells": [
  {
   "cell_type": "code",
   "execution_count": 59,
   "metadata": {},
   "outputs": [
    {
     "name": "stdout",
     "output_type": "stream",
     "text": [
      "mean is 118.9\n"
     ]
    }
   ],
   "source": [
    "import torch\n",
    "import torch.nn as nn\n",
    "from PIL import Image\n",
    "import numpy as np\n",
    "import torchvision.transforms as transforms\n",
    "\n",
    "# 定义用于计算输入均值的神经网络\n",
    "class MeanNet(nn.Module):\n",
    "    def __init__(self):\n",
    "        super().__init__()\n",
    "    \n",
    "    def forward(self, x):\n",
    "        # 计算均值\n",
    "        mean = x.mean().unsqueeze(0)\n",
    "        out = torch.cat([mean])\n",
    "        return mean\n",
    "\n",
    "if __name__ == \"__main__\":\n",
    "    device = torch.device(\"cpu\")\n",
    "\n",
    "    # 读取图片并转为Tensor类型\n",
    "    image = Image.open(\"desk.jpg\")\n",
    "    image = image.resize((256, 256))\n",
    "    # 对输入图像进行预处理\n",
    "    trans = transforms.Compose([\n",
    "        transforms.ToTensor(),\n",
    "        transforms.Normalize(mean=[0.0, 0.0, 0.0], std=[1.0, 1.0, 1.0])]\n",
    "        )\n",
    "    image = trans(image)\n",
    "    image = image.to(device)\n",
    "    \n",
    "    # 通过mean_net统计图像的信息\n",
    "    mean_net = MeanNet().to(device)\n",
    "    mean = mean_net(image)\n",
    "    print(\"mean is {:.4}\".format(mean.item() * 255))\n",
    "    # 保存模型\n",
    "    torch.save(mean_net.state_dict(), \"mean_net.pth\")\n",
    "    # 输出结果：\n",
    "    # mean is 118.9"
   ]
  },
  {
   "cell_type": "code",
   "execution_count": 46,
   "metadata": {
    "scrolled": false
   },
   "outputs": [],
   "source": [
    "# 定义网络模型\n",
    "mean_net = MeanNet()\n",
    "# 加载之前保存的网络参数\n",
    "mean_net.load_state_dict(torch.load(\"mean_net.pth\", map_location=device))\n",
    "# 将网络切换到eval模式\n",
    "mean_net.eval()\n",
    "# 构建用于追踪的输入\n",
    "x = torch.rand(1, 3, 256, 256)\n",
    "traced_script_module = torch.jit.trace(func=mean_net, example_inputs=x)\n",
    "traced_script_module.save(\"mean_net.pt\")"
   ]
  },
  {
   "cell_type": "code",
   "execution_count": 54,
   "metadata": {},
   "outputs": [
    {
     "name": "stdout",
     "output_type": "stream",
     "text": [
      "['Image', 'ImageEnhance', 'ImageOps', 'Iterable', 'PILLOW_VERSION', 'Sequence', '__builtins__', '__cached__', '__doc__', '__file__', '__loader__', '__name__', '__package__', '__spec__', '_get_inverse_affine_matrix', '_get_perspective_coeffs', '_is_numpy', '_is_numpy_image', '_is_pil_image', '_parse_fill', 'accimage', 'adjust_brightness', 'adjust_contrast', 'adjust_gamma', 'adjust_hue', 'adjust_saturation', 'affine', 'center_crop', 'cos', 'crop', 'erase', 'five_crop', 'hflip', 'math', 'normalize', 'np', 'numbers', 'pad', 'perspective', 'resize', 'resized_crop', 'rotate', 'scale', 'sin', 'tan', 'ten_crop', 'to_grayscale', 'to_pil_image', 'to_tensor', 'torch', 'vflip', 'warnings']\n"
     ]
    }
   ],
   "source": [
    "print(dir(TF))"
   ]
  },
  {
   "cell_type": "code",
   "execution_count": null,
   "metadata": {},
   "outputs": [],
   "source": []
  }
 ],
 "metadata": {
  "kernelspec": {
   "display_name": "Python 3",
   "language": "python",
   "name": "python3"
  },
  "language_info": {
   "codemirror_mode": {
    "name": "ipython",
    "version": 3
   },
   "file_extension": ".py",
   "mimetype": "text/x-python",
   "name": "python",
   "nbconvert_exporter": "python",
   "pygments_lexer": "ipython3",
   "version": "3.6.4"
  }
 },
 "nbformat": 4,
 "nbformat_minor": 2
}
